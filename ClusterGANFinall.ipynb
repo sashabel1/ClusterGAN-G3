{
  "nbformat": 4,
  "nbformat_minor": 0,
  "metadata": {
    "colab": {
      "provenance": [],
      "authorship_tag": "ABX9TyPzPFFGPUroAM647VAhOjEP",
      "include_colab_link": true
    },
    "kernelspec": {
      "name": "python3",
      "display_name": "Python 3"
    },
    "language_info": {
      "name": "python"
    }
  },
  "cells": [
    {
      "cell_type": "markdown",
      "metadata": {
        "id": "view-in-github",
        "colab_type": "text"
      },
      "source": [
        "<a href=\"https://colab.research.google.com/github/sashabel1/ClusterGAN-G3/blob/main/ClusterGANFinall.ipynb\" target=\"_parent\"><img src=\"https://colab.research.google.com/assets/colab-badge.svg\" alt=\"Open In Colab\"/></a>"
      ]
    },
    {
      "cell_type": "code",
      "execution_count": 1,
      "metadata": {
        "colab": {
          "base_uri": "https://localhost:8080/"
        },
        "id": "vKl7fJjnCaGF",
        "outputId": "39c4106c-45b8-4cdb-fa74-f12559f63229"
      },
      "outputs": [
        {
          "output_type": "stream",
          "name": "stdout",
          "text": [
            "fatal: destination path 'MindSpore-GAN' already exists and is not an empty directory.\n",
            "/content/MindSpore-GAN\n",
            "Requirement already satisfied: tqdm in /usr/local/lib/python3.11/dist-packages (from -r requirements.txt (line 1)) (4.67.1)\n",
            "Requirement already satisfied: pillow in /usr/local/lib/python3.11/dist-packages (from -r requirements.txt (line 2)) (11.2.1)\n",
            "The folder ./dataset exists.\n",
            "--2025-06-23 16:15:29--  http://yann.lecun.com/exdb/mnist/train-images-idx3-ubyte.gz\n",
            "Resolving yann.lecun.com (yann.lecun.com)... 15.204.224.156\n",
            "Connecting to yann.lecun.com (yann.lecun.com)|15.204.224.156|:80... connected.\n",
            "HTTP request sent, awaiting response... 404 Not Found\n",
            "2025-06-23 16:15:29 ERROR 404: Not Found.\n",
            "\n",
            "--2025-06-23 16:15:29--  http://yann.lecun.com/exdb/mnist/train-labels-idx1-ubyte.gz\n",
            "Resolving yann.lecun.com (yann.lecun.com)... 15.204.224.156\n",
            "Connecting to yann.lecun.com (yann.lecun.com)|15.204.224.156|:80... connected.\n",
            "HTTP request sent, awaiting response... 404 Not Found\n",
            "2025-06-23 16:15:29 ERROR 404: Not Found.\n",
            "\n",
            "--2025-06-23 16:15:29--  http://yann.lecun.com/exdb/mnist/t10k-images-idx3-ubyte.gz\n",
            "Resolving yann.lecun.com (yann.lecun.com)... 15.204.224.156\n",
            "Connecting to yann.lecun.com (yann.lecun.com)|15.204.224.156|:80... connected.\n",
            "HTTP request sent, awaiting response... 404 Not Found\n",
            "2025-06-23 16:15:29 ERROR 404: Not Found.\n",
            "\n",
            "--2025-06-23 16:15:29--  http://yann.lecun.com/exdb/mnist/t10k-labels-idx1-ubyte.gz\n",
            "Resolving yann.lecun.com (yann.lecun.com)... 15.204.224.156\n",
            "Connecting to yann.lecun.com (yann.lecun.com)|15.204.224.156|:80... connected.\n",
            "HTTP request sent, awaiting response... 404 Not Found\n",
            "2025-06-23 16:15:29 ERROR 404: Not Found.\n",
            "\n",
            "gzip: train-images-idx3-ubyte.gz: No such file or directory\n",
            "gzip: train-labels-idx1-ubyte.gz: No such file or directory\n",
            "gzip: t10k-images-idx3-ubyte.gz: No such file or directory\n",
            "gzip: t10k-labels-idx1-ubyte.gz: No such file or directory\n",
            "/content/MindSpore-GAN/src/clustergan\n",
            "Requirement already satisfied: mindspore in /usr/local/lib/python3.11/dist-packages (2.6.0)\n",
            "Requirement already satisfied: numpy<2.0.0,>=1.20.0 in /usr/local/lib/python3.11/dist-packages (from mindspore) (1.26.4)\n",
            "Requirement already satisfied: protobuf>=3.13.0 in /usr/local/lib/python3.11/dist-packages (from mindspore) (5.29.5)\n",
            "Requirement already satisfied: asttokens>=2.0.4 in /usr/local/lib/python3.11/dist-packages (from mindspore) (3.0.0)\n",
            "Requirement already satisfied: pillow>=6.2.0 in /usr/local/lib/python3.11/dist-packages (from mindspore) (11.2.1)\n",
            "Requirement already satisfied: scipy>=1.5.4 in /usr/local/lib/python3.11/dist-packages (from mindspore) (1.15.3)\n",
            "Requirement already satisfied: packaging>=20.0 in /usr/local/lib/python3.11/dist-packages (from mindspore) (24.2)\n",
            "Requirement already satisfied: psutil>=5.6.1 in /usr/local/lib/python3.11/dist-packages (from mindspore) (5.9.5)\n",
            "Requirement already satisfied: astunparse>=1.6.3 in /usr/local/lib/python3.11/dist-packages (from mindspore) (1.6.3)\n",
            "Requirement already satisfied: safetensors>=0.4.0 in /usr/local/lib/python3.11/dist-packages (from mindspore) (0.5.3)\n",
            "Requirement already satisfied: dill>=0.3.7 in /usr/local/lib/python3.11/dist-packages (from mindspore) (0.3.7)\n",
            "Requirement already satisfied: wheel<1.0,>=0.23.0 in /usr/local/lib/python3.11/dist-packages (from astunparse>=1.6.3->mindspore) (0.45.1)\n",
            "Requirement already satisfied: six<2.0,>=1.6.1 in /usr/local/lib/python3.11/dist-packages (from astunparse>=1.6.3->mindspore) (1.17.0)\n"
          ]
        }
      ],
      "source": [
        "!git clone https://github.com/lvyufeng/MindSpore-GAN\n",
        "%cd MindSpore-GAN/\n",
        "!pip install -r requirements.txt\n",
        "!bash scripts/download_mnist.sh\n",
        "%cd src/clustergan/\n",
        "!pip install mindspore"
      ]
    },
    {
      "cell_type": "code",
      "source": [
        "file_path = \"clustergan.py\"\n",
        "\n",
        "with open(file_path, \"r\") as file:\n",
        "    code = file.read()\n",
        "\n",
        "code = code.replace(\"from mindspore import ms_function\", \"from mindspore import jit\")\n",
        "code = code.replace(\"@ms_function\", \"@jit\")\n",
        "\n",
        "with open(file_path, \"w\") as file:\n",
        "    file.write(code)\n",
        "\n",
        "\n"
      ],
      "metadata": {
        "id": "5jxFtQxlmfHj"
      },
      "execution_count": null,
      "outputs": []
    },
    {
      "cell_type": "markdown",
      "source": [
        "Before you run the code below you need to add manually the dataset, see instructions in our git : how to run the code file."
      ],
      "metadata": {
        "id": "1mTUkQrLj2Fz"
      }
    },
    {
      "cell_type": "code",
      "source": [
        "!python3 clustergan.py"
      ],
      "metadata": {
        "colab": {
          "base_uri": "https://localhost:8080/"
        },
        "id": "21OZXHspCy_A",
        "outputId": "b1d4b445-8ca4-400e-a902-71b39821805a"
      },
      "execution_count": 3,
      "outputs": [
        {
          "output_type": "stream",
          "name": "stdout",
          "text": [
            "[WARNING] ME(4239:139783731417088,MainProcess):2025-06-23-16:24:37.802.000 [mindspore/dataset/core/validator_helpers.py:744] 'Rescale' from mindspore.dataset.vision.c_transforms is deprecated from version 1.8 and will be removed in a future version. Use 'Rescale' from mindspore.dataset.vision instead.\n",
            "[WARNING] ME(4239:139783731417088,MainProcess):2025-06-23-16:24:37.803.000 [mindspore/dataset/core/validator_helpers.py:744] 'Resize' from mindspore.dataset.vision.c_transforms is deprecated from version 1.8 and will be removed in a future version. Use 'Resize' from mindspore.dataset.vision instead.\n",
            "[WARNING] ME(4239:139783731417088,MainProcess):2025-06-23-16:24:37.803.000 [mindspore/dataset/core/validator_helpers.py:744] 'Normalize' from mindspore.dataset.vision.c_transforms is deprecated from version 1.8 and will be removed in a future version. Use 'Normalize' from mindspore.dataset.vision instead.\n",
            "[WARNING] ME(4239:139783731417088,MainProcess):2025-06-23-16:24:37.803.000 [mindspore/dataset/core/validator_helpers.py:744] 'HWC2CHW' from mindspore.dataset.vision.c_transforms is deprecated from version 1.8 and will be removed in a future version. Use 'HWC2CHW' from mindspore.dataset.vision instead.\n",
            "[WARNING] ME(4239:139783731417088,MainProcess):2025-06-23-16:24:37.804.000 [mindspore/dataset/core/validator_helpers.py:744] 'Rescale' from mindspore.dataset.vision.c_transforms is deprecated from version 1.8 and will be removed in a future version. Use 'Rescale' from mindspore.dataset.vision instead.\n",
            "[WARNING] ME(4239:139783731417088,MainProcess):2025-06-23-16:24:37.804.000 [mindspore/dataset/core/validator_helpers.py:744] 'Resize' from mindspore.dataset.vision.c_transforms is deprecated from version 1.8 and will be removed in a future version. Use 'Resize' from mindspore.dataset.vision instead.\n",
            "[WARNING] ME(4239:139783731417088,MainProcess):2025-06-23-16:24:37.804.000 [mindspore/dataset/core/validator_helpers.py:744] 'Normalize' from mindspore.dataset.vision.c_transforms is deprecated from version 1.8 and will be removed in a future version. Use 'Normalize' from mindspore.dataset.vision instead.\n",
            "[WARNING] ME(4239:139783731417088,MainProcess):2025-06-23-16:24:37.804.000 [mindspore/dataset/core/validator_helpers.py:744] 'HWC2CHW' from mindspore.dataset.vision.c_transforms is deprecated from version 1.8 and will be removed in a future version. Use 'HWC2CHW' from mindspore.dataset.vision instead.\n",
            "Epoch 0:   0% 0/938 [00:00<?, ?it/s][WARNING] ANALYZER(4239,7f21efa81000,python3):2025-06-23-16:24:41.253.206 [mindspore/ccsrc/pipeline/jit/ps/static_analysis/auto_monad.cc:1585] ClearIsolatedNodes] Some side effect nodes were eliminated by mistake. The node is:@8_generator_forward_46:enc_gen_zc{[0]: ValueNode<FuncGraph> 35__tuple_getitem_by_number_47, [1]: CNode_48, [2]: ValueNode<Int64Imm> 1}\n",
            "Epoch 0:   1% 10/938 [00:10<06:46,  2.28it/s, d_loss=0.40326434, g_loss=29.238235][WARNING] UTILS(4239,7f21efa81000,python3):2025-06-23-16:24:49.462.775 [mindspore/ccsrc/utils/signal_util.cc:73] DefaultIntHandler] Process 4239 receive the KeyboardInterrupt signal.\n",
            "^C\n"
          ]
        }
      ]
    }
  ]
}